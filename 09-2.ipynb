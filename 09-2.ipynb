{
 "cells": [
  {
   "cell_type": "markdown",
   "metadata": {},
   "source": [
    "### 09-2. 순환 신경망으로 IMDB 리뷰 분류하기"
   ]
  },
  {
   "cell_type": "code",
   "execution_count": 1,
   "metadata": {},
   "outputs": [],
   "source": [
    "from tensorflow.keras.datasets import imdb\n",
    "(train_input, train_target), (test_input, test_target) = imdb.load_data(\n",
    "    num_words=500)"
   ]
  },
  {
   "cell_type": "code",
   "execution_count": 3,
   "metadata": {},
   "outputs": [
    {
     "name": "stdout",
     "output_type": "stream",
     "text": [
      "(25000,) (25000,)\n"
     ]
    }
   ],
   "source": [
    "print(train_input.shape, train_target.shape)"
   ]
  },
  {
   "cell_type": "code",
   "execution_count": 5,
   "metadata": {},
   "outputs": [
    {
     "name": "stdout",
     "output_type": "stream",
     "text": [
      "218\n"
     ]
    }
   ],
   "source": [
    "print(len(train_input[0]))"
   ]
  },
  {
   "cell_type": "code",
   "execution_count": 6,
   "metadata": {},
   "outputs": [
    {
     "name": "stdout",
     "output_type": "stream",
     "text": [
      "189\n"
     ]
    }
   ],
   "source": [
    "print(len(train_input[1]))"
   ]
  },
  {
   "cell_type": "code",
   "execution_count": 7,
   "metadata": {},
   "outputs": [
    {
     "name": "stdout",
     "output_type": "stream",
     "text": [
      "[1, 14, 22, 16, 43, 2, 2, 2, 2, 65, 458, 2, 66, 2, 4, 173, 36, 256, 5, 25, 100, 43, 2, 112, 50, 2, 2, 9, 35, 480, 284, 5, 150, 4, 172, 112, 167, 2, 336, 385, 39, 4, 172, 2, 2, 17, 2, 38, 13, 447, 4, 192, 50, 16, 6, 147, 2, 19, 14, 22, 4, 2, 2, 469, 4, 22, 71, 87, 12, 16, 43, 2, 38, 76, 15, 13, 2, 4, 22, 17, 2, 17, 12, 16, 2, 18, 2, 5, 62, 386, 12, 8, 316, 8, 106, 5, 4, 2, 2, 16, 480, 66, 2, 33, 4, 130, 12, 16, 38, 2, 5, 25, 124, 51, 36, 135, 48, 25, 2, 33, 6, 22, 12, 215, 28, 77, 52, 5, 14, 407, 16, 82, 2, 8, 4, 107, 117, 2, 15, 256, 4, 2, 7, 2, 5, 2, 36, 71, 43, 2, 476, 26, 400, 317, 46, 7, 4, 2, 2, 13, 104, 88, 4, 381, 15, 297, 98, 32, 2, 56, 26, 141, 6, 194, 2, 18, 4, 226, 22, 21, 134, 476, 26, 480, 5, 144, 30, 2, 18, 51, 36, 28, 224, 92, 25, 104, 4, 226, 65, 16, 38, 2, 88, 12, 16, 283, 5, 16, 2, 113, 103, 32, 15, 16, 2, 19, 178, 32]\n"
     ]
    }
   ],
   "source": [
    "print(train_input[0])"
   ]
  },
  {
   "cell_type": "code",
   "execution_count": 8,
   "metadata": {},
   "outputs": [
    {
     "data": {
      "text/plain": [
       "array([list([1, 14, 22, 16, 43, 2, 2, 2, 2, 65, 458, 2, 66, 2, 4, 173, 36, 256, 5, 25, 100, 43, 2, 112, 50, 2, 2, 9, 35, 480, 284, 5, 150, 4, 172, 112, 167, 2, 336, 385, 39, 4, 172, 2, 2, 17, 2, 38, 13, 447, 4, 192, 50, 16, 6, 147, 2, 19, 14, 22, 4, 2, 2, 469, 4, 22, 71, 87, 12, 16, 43, 2, 38, 76, 15, 13, 2, 4, 22, 17, 2, 17, 12, 16, 2, 18, 2, 5, 62, 386, 12, 8, 316, 8, 106, 5, 4, 2, 2, 16, 480, 66, 2, 33, 4, 130, 12, 16, 38, 2, 5, 25, 124, 51, 36, 135, 48, 25, 2, 33, 6, 22, 12, 215, 28, 77, 52, 5, 14, 407, 16, 82, 2, 8, 4, 107, 117, 2, 15, 256, 4, 2, 7, 2, 5, 2, 36, 71, 43, 2, 476, 26, 400, 317, 46, 7, 4, 2, 2, 13, 104, 88, 4, 381, 15, 297, 98, 32, 2, 56, 26, 141, 6, 194, 2, 18, 4, 226, 22, 21, 134, 476, 26, 480, 5, 144, 30, 2, 18, 51, 36, 28, 224, 92, 25, 104, 4, 226, 65, 16, 38, 2, 88, 12, 16, 283, 5, 16, 2, 113, 103, 32, 15, 16, 2, 19, 178, 32]),\n",
       "       list([1, 194, 2, 194, 2, 78, 228, 5, 6, 2, 2, 2, 134, 26, 4, 2, 8, 118, 2, 14, 394, 20, 13, 119, 2, 189, 102, 5, 207, 110, 2, 21, 14, 69, 188, 8, 30, 23, 7, 4, 249, 126, 93, 4, 114, 9, 2, 2, 5, 2, 4, 116, 9, 35, 2, 4, 229, 9, 340, 2, 4, 118, 9, 4, 130, 2, 19, 4, 2, 5, 89, 29, 2, 46, 37, 4, 455, 9, 45, 43, 38, 2, 2, 398, 4, 2, 26, 2, 5, 163, 11, 2, 2, 4, 2, 9, 194, 2, 7, 2, 2, 349, 2, 148, 2, 2, 2, 15, 123, 125, 68, 2, 2, 15, 349, 165, 2, 98, 5, 4, 228, 9, 43, 2, 2, 15, 299, 120, 5, 120, 174, 11, 220, 175, 136, 50, 9, 2, 228, 2, 5, 2, 2, 245, 2, 5, 4, 2, 131, 152, 491, 18, 2, 32, 2, 2, 14, 9, 6, 371, 78, 22, 2, 64, 2, 9, 8, 168, 145, 23, 4, 2, 15, 16, 4, 2, 5, 28, 6, 52, 154, 462, 33, 89, 78, 285, 16, 145, 95]),\n",
       "       list([1, 14, 47, 8, 30, 31, 7, 4, 249, 108, 7, 4, 2, 54, 61, 369, 13, 71, 149, 14, 22, 112, 4, 2, 311, 12, 16, 2, 33, 75, 43, 2, 296, 4, 86, 320, 35, 2, 19, 263, 2, 2, 4, 2, 33, 89, 78, 12, 66, 16, 4, 360, 7, 4, 58, 316, 334, 11, 4, 2, 43, 2, 2, 8, 257, 85, 2, 42, 2, 2, 83, 68, 2, 15, 36, 165, 2, 278, 36, 69, 2, 2, 8, 106, 14, 2, 2, 18, 6, 22, 12, 215, 28, 2, 40, 6, 87, 326, 23, 2, 21, 23, 22, 12, 272, 40, 57, 31, 11, 4, 22, 47, 6, 2, 51, 9, 170, 23, 2, 116, 2, 2, 13, 191, 79, 2, 89, 2, 14, 9, 8, 106, 2, 2, 35, 2, 6, 227, 7, 129, 113]),\n",
       "       ...,\n",
       "       list([1, 11, 6, 230, 245, 2, 9, 6, 2, 446, 2, 45, 2, 84, 2, 2, 21, 4, 2, 84, 2, 325, 2, 134, 2, 2, 84, 5, 36, 28, 57, 2, 21, 8, 140, 8, 2, 5, 2, 84, 56, 18, 2, 14, 9, 31, 7, 4, 2, 2, 2, 2, 2, 18, 6, 20, 207, 110, 2, 12, 8, 2, 2, 8, 97, 6, 20, 53, 2, 74, 4, 460, 364, 2, 29, 270, 11, 2, 108, 45, 40, 29, 2, 395, 11, 6, 2, 2, 7, 2, 89, 364, 70, 29, 140, 4, 64, 2, 11, 4, 2, 26, 178, 4, 2, 443, 2, 5, 27, 2, 117, 2, 2, 165, 47, 84, 37, 131, 2, 14, 2, 10, 10, 61, 2, 2, 10, 10, 288, 2, 2, 34, 2, 2, 4, 65, 496, 4, 231, 7, 2, 5, 6, 320, 234, 2, 234, 2, 2, 7, 496, 4, 139, 2, 2, 2, 2, 5, 2, 18, 4, 2, 2, 250, 11, 2, 2, 4, 2, 2, 2, 2, 372, 2, 2, 2, 2, 7, 4, 59, 2, 4, 2, 2]),\n",
       "       list([1, 2, 2, 69, 72, 2, 13, 2, 2, 8, 12, 2, 23, 5, 16, 484, 2, 54, 349, 11, 2, 2, 45, 58, 2, 13, 197, 12, 16, 43, 23, 2, 5, 62, 30, 145, 402, 11, 2, 51, 2, 32, 61, 369, 71, 66, 2, 12, 2, 75, 100, 2, 8, 4, 105, 37, 69, 147, 2, 75, 2, 44, 257, 390, 5, 69, 263, 2, 105, 50, 286, 2, 23, 4, 123, 13, 161, 40, 5, 421, 4, 116, 16, 2, 13, 2, 40, 319, 2, 112, 2, 11, 2, 121, 25, 70, 2, 4, 2, 2, 13, 18, 31, 62, 40, 8, 2, 4, 2, 7, 14, 123, 5, 2, 25, 8, 2, 12, 145, 5, 202, 12, 160, 2, 202, 12, 6, 52, 58, 2, 92, 401, 2, 12, 39, 14, 251, 8, 15, 251, 5, 2, 12, 38, 84, 80, 124, 12, 9, 23]),\n",
       "       list([1, 17, 6, 194, 337, 7, 4, 204, 22, 45, 254, 8, 106, 14, 123, 4, 2, 270, 2, 5, 2, 2, 2, 2, 101, 405, 39, 14, 2, 4, 2, 9, 115, 50, 305, 12, 47, 4, 168, 5, 235, 7, 38, 111, 2, 102, 7, 4, 2, 2, 9, 24, 6, 78, 2, 17, 2, 2, 21, 27, 2, 2, 5, 2, 2, 92, 2, 4, 2, 7, 4, 204, 42, 97, 90, 35, 221, 109, 29, 127, 27, 118, 8, 97, 12, 157, 21, 2, 2, 9, 6, 66, 78, 2, 4, 2, 2, 5, 2, 272, 191, 2, 6, 2, 8, 2, 2, 2, 2, 5, 383, 2, 2, 2, 2, 497, 2, 8, 2, 2, 2, 21, 60, 27, 239, 9, 43, 2, 209, 405, 10, 10, 12, 2, 40, 4, 248, 20, 12, 16, 5, 174, 2, 72, 7, 51, 6, 2, 22, 4, 204, 131, 9])],\n",
       "      dtype=object)"
      ]
     },
     "execution_count": 8,
     "metadata": {},
     "output_type": "execute_result"
    }
   ],
   "source": [
    "train_input"
   ]
  },
  {
   "cell_type": "code",
   "execution_count": 9,
   "metadata": {},
   "outputs": [
    {
     "name": "stdout",
     "output_type": "stream",
     "text": [
      "[1 0 0 1 0 0 1 0 1 0 1 0 0 0 0 0 1 1 0 1]\n"
     ]
    }
   ],
   "source": [
    "print(train_target[:20])"
   ]
  },
  {
   "cell_type": "code",
   "execution_count": 10,
   "metadata": {},
   "outputs": [],
   "source": [
    "from sklearn.model_selection import train_test_split\n",
    "train_input, val_input, train_target, val_target = train_test_split(\n",
    "    train_input, train_target, test_size=0.2, random_state=42)"
   ]
  },
  {
   "cell_type": "code",
   "execution_count": 11,
   "metadata": {},
   "outputs": [],
   "source": [
    "import numpy as np\n",
    "lengths = np.array([len(x) for x in train_input])"
   ]
  },
  {
   "cell_type": "code",
   "execution_count": 12,
   "metadata": {},
   "outputs": [
    {
     "name": "stdout",
     "output_type": "stream",
     "text": [
      "239.00925 178.0\n"
     ]
    }
   ],
   "source": [
    "print(np.mean(lengths), np.median(lengths))"
   ]
  },
  {
   "cell_type": "code",
   "execution_count": 13,
   "metadata": {},
   "outputs": [
    {
     "data": {
      "image/png": "[encoded data removed]",
      "text/plain": [
       "<Figure size 432x288 with 1 Axes>"
      ]
     },
     "metadata": {
      "needs_background": "light"
     },
     "output_type": "display_data"
    }
   ],
   "source": [
    "import matplotlib.pyplot as plt\n",
    "plt.hist(lengths)\n",
    "plt.xlabel('length')\n",
    "plt.ylabel('frequency')\n",
    "plt.show()"
   ]
  },
  {
   "cell_type": "code",
   "execution_count": 15,
   "metadata": {},
   "outputs": [],
   "source": [
    "from tensorflow.keras.preprocessing.sequence import pad_sequences\n",
    "train_seq = pad_sequences(train_input, maxlen=100)"
   ]
  },
  {
   "cell_type": "code",
   "execution_count": 16,
   "metadata": {},
   "outputs": [
    {
     "name": "stdout",
     "output_type": "stream",
     "text": [
      "(20000, 100)\n"
     ]
    }
   ],
   "source": [
    "print(train_seq.shape)"
   ]
  },
  {
   "cell_type": "code",
   "execution_count": 17,
   "metadata": {},
   "outputs": [
    {
     "name": "stdout",
     "output_type": "stream",
     "text": [
      "[ 10   4  20   9   2 364 352   5  45   6   2   2  33 269   8   2 142   2\n",
      "   5   2  17  73  17 204   5   2  19  55   2   2  92  66 104  14  20  93\n",
      "  76   2 151  33   4  58  12 188   2 151  12 215  69 224 142  73 237   6\n",
      "   2   7   2   2 188   2 103  14  31  10  10 451   7   2   5   2  80  91\n",
      "   2  30   2  34  14  20 151  50  26 131  49   2  84  46  50  37  80  79\n",
      "   6   2  46   7  14  20  10  10 470 158]\n"
     ]
    }
   ],
   "source": [
    "print(train_seq[0])"
   ]
  },
  {
   "cell_type": "code",
   "execution_count": 18,
   "metadata": {},
   "outputs": [
    {
     "name": "stdout",
     "output_type": "stream",
     "text": [
      "[6, 2, 46, 7, 14, 20, 10, 10, 470, 158]\n"
     ]
    }
   ],
   "source": [
    "print(train_input[0][-10:])"
   ]
  },
  {
   "cell_type": "code",
   "execution_count": 19,
   "metadata": {},
   "outputs": [],
   "source": [
    "val_seq = pad_sequences(val_input, maxlen=100)"
   ]
  },
  {
   "cell_type": "code",
   "execution_count": 20,
   "metadata": {},
   "outputs": [],
   "source": [
    "from tensorflow import keras\n",
    "model = keras.Sequential()\n",
    "model.add(keras.layers.SimpleRNN(8, input_shape=(100, 500)))\n",
    "model.add(keras.layers.Dense(1, activation='sigmoid'))"
   ]
  },
  {
   "cell_type": "code",
   "execution_count": 21,
   "metadata": {},
   "outputs": [],
   "source": [
    "train_oh = keras.utils.to_categorical(train_seq)"
   ]
  },
  {
   "cell_type": "code",
   "execution_count": 22,
   "metadata": {},
   "outputs": [
    {
     "name": "stdout",
     "output_type": "stream",
     "text": [
      "(20000, 100, 500)\n"
     ]
    }
   ],
   "source": [
    "print(train_oh.shape)"
   ]
  },
  {
   "cell_type": "code",
   "execution_count": 23,
   "metadata": {},
   "outputs": [
    {
     "name": "stdout",
     "output_type": "stream",
     "text": [
      "[0. 0. 0. 0. 0. 0. 0. 0. 0. 0. 1. 0.]\n"
     ]
    }
   ],
   "source": [
    "print(train_oh[0][0][:12])"
   ]
  },
  {
   "cell_type": "code",
   "execution_count": 24,
   "metadata": {},
   "outputs": [
    {
     "name": "stdout",
     "output_type": "stream",
     "text": [
      "1.0\n"
     ]
    }
   ],
   "source": [
    "print(np.sum(train_oh[0][0]))"
   ]
  },
  {
   "cell_type": "code",
   "execution_count": 25,
   "metadata": {},
   "outputs": [],
   "source": [
    "val_oh = keras.utils.to_categorical(val_seq)"
   ]
  },
  {
   "cell_type": "code",
   "execution_count": 26,
   "metadata": {},
   "outputs": [
    {
     "name": "stdout",
     "output_type": "stream",
     "text": [
      "Model: \"sequential\"\n",
      "_________________________________________________________________\n",
      " Layer (type)                Output Shape              Param #   \n",
      "=================================================================\n",
      " simple_rnn (SimpleRNN)      (None, 8)                 4072      \n",
      "                                                                 \n",
      " dense (Dense)               (None, 1)                 9         \n",
      "                                                                 \n",
      "=================================================================\n",
      "Total params: 4,081\n",
      "Trainable params: 4,081\n",
      "Non-trainable params: 0\n",
      "_________________________________________________________________\n"
     ]
    }
   ],
   "source": [
    "model.summary()"
   ]
  },
  {
   "cell_type": "code",
   "execution_count": 34,
   "metadata": {},
   "outputs": [
    {
     "data": {
      "image/png": "[encoded data removed]",
      "text/plain": [
       "<IPython.core.display.Image object>"
      ]
     },
     "execution_count": 34,
     "metadata": {},
     "output_type": "execute_result"
    }
   ],
   "source": [
    "keras.utils.plot_model(model, show_shapes=True)"
   ]
  },
  {
   "cell_type": "code",
   "execution_count": 27,
   "metadata": {},
   "outputs": [
    {
     "name": "stdout",
     "output_type": "stream",
     "text": [
      "Epoch 1/100\n",
      "313/313 [==============================] - 28s 84ms/step - loss: 0.7004 - accuracy: 0.5052 - val_loss: 0.6963 - val_accuracy: 0.5168\n",
      "Epoch 2/100\n",
      "313/313 [==============================] - 25s 80ms/step - loss: 0.6873 - accuracy: 0.5455 - val_loss: 0.6794 - val_accuracy: 0.5756\n",
      "Epoch 3/100\n",
      "313/313 [==============================] - 25s 81ms/step - loss: 0.6708 - accuracy: 0.6015 - val_loss: 0.6626 - val_accuracy: 0.6220\n",
      "Epoch 4/100\n",
      "313/313 [==============================] - 22s 71ms/step - loss: 0.6522 - accuracy: 0.6402 - val_loss: 0.6440 - val_accuracy: 0.6540\n",
      "Epoch 5/100\n",
      "313/313 [==============================] - 23s 72ms/step - loss: 0.6313 - accuracy: 0.6745 - val_loss: 0.6258 - val_accuracy: 0.6712\n",
      "Epoch 6/100\n",
      "313/313 [==============================] - 28s 88ms/step - loss: 0.6100 - accuracy: 0.6987 - val_loss: 0.6056 - val_accuracy: 0.6938\n",
      "Epoch 7/100\n",
      "313/313 [==============================] - 23s 74ms/step - loss: 0.5898 - accuracy: 0.7153 - val_loss: 0.5868 - val_accuracy: 0.7108\n",
      "Epoch 8/100\n",
      "313/313 [==============================] - 23s 75ms/step - loss: 0.5704 - accuracy: 0.7327 - val_loss: 0.5701 - val_accuracy: 0.7238\n",
      "Epoch 9/100\n",
      "313/313 [==============================] - 22s 71ms/step - loss: 0.5507 - accuracy: 0.7472 - val_loss: 0.5528 - val_accuracy: 0.7342\n",
      "Epoch 10/100\n",
      "313/313 [==============================] - 23s 73ms/step - loss: 0.5348 - accuracy: 0.7571 - val_loss: 0.5381 - val_accuracy: 0.7464\n",
      "Epoch 11/100\n",
      "313/313 [==============================] - 22s 70ms/step - loss: 0.5207 - accuracy: 0.7673 - val_loss: 0.5263 - val_accuracy: 0.7610\n",
      "Epoch 12/100\n",
      "313/313 [==============================] - 25s 81ms/step - loss: 0.5088 - accuracy: 0.7744 - val_loss: 0.5184 - val_accuracy: 0.7626\n",
      "Epoch 13/100\n",
      "313/313 [==============================] - 16s 53ms/step - loss: 0.4984 - accuracy: 0.7798 - val_loss: 0.5086 - val_accuracy: 0.7698\n",
      "Epoch 14/100\n",
      "313/313 [==============================] - 15s 48ms/step - loss: 0.4888 - accuracy: 0.7847 - val_loss: 0.5007 - val_accuracy: 0.7730\n",
      "Epoch 15/100\n",
      "313/313 [==============================] - 19s 61ms/step - loss: 0.4809 - accuracy: 0.7888 - val_loss: 0.4949 - val_accuracy: 0.7730\n",
      "Epoch 16/100\n",
      "313/313 [==============================] - 21s 66ms/step - loss: 0.4733 - accuracy: 0.7930 - val_loss: 0.4890 - val_accuracy: 0.7758\n",
      "Epoch 17/100\n",
      "313/313 [==============================] - 19s 60ms/step - loss: 0.4668 - accuracy: 0.7955 - val_loss: 0.4862 - val_accuracy: 0.7742\n",
      "Epoch 18/100\n",
      "313/313 [==============================] - 19s 62ms/step - loss: 0.4609 - accuracy: 0.7971 - val_loss: 0.4794 - val_accuracy: 0.7810\n",
      "Epoch 19/100\n",
      "313/313 [==============================] - 23s 75ms/step - loss: 0.4556 - accuracy: 0.7988 - val_loss: 0.4762 - val_accuracy: 0.7816\n",
      "Epoch 20/100\n",
      "313/313 [==============================] - 17s 53ms/step - loss: 0.4509 - accuracy: 0.8030 - val_loss: 0.4714 - val_accuracy: 0.7846\n",
      "Epoch 21/100\n",
      "313/313 [==============================] - 15s 47ms/step - loss: 0.4462 - accuracy: 0.8054 - val_loss: 0.4728 - val_accuracy: 0.7818\n",
      "Epoch 22/100\n",
      "313/313 [==============================] - 15s 48ms/step - loss: 0.4427 - accuracy: 0.8055 - val_loss: 0.4662 - val_accuracy: 0.7864\n",
      "Epoch 23/100\n",
      "313/313 [==============================] - 13s 43ms/step - loss: 0.4392 - accuracy: 0.8079 - val_loss: 0.4656 - val_accuracy: 0.7888\n",
      "Epoch 24/100\n",
      "313/313 [==============================] - 14s 45ms/step - loss: 0.4359 - accuracy: 0.8085 - val_loss: 0.4668 - val_accuracy: 0.7798\n",
      "Epoch 25/100\n",
      "313/313 [==============================] - 14s 44ms/step - loss: 0.4333 - accuracy: 0.8099 - val_loss: 0.4641 - val_accuracy: 0.7858\n",
      "Epoch 26/100\n",
      "313/313 [==============================] - 14s 43ms/step - loss: 0.4304 - accuracy: 0.8110 - val_loss: 0.4629 - val_accuracy: 0.7862\n",
      "Epoch 27/100\n",
      "313/313 [==============================] - 12s 40ms/step - loss: 0.4281 - accuracy: 0.8107 - val_loss: 0.4619 - val_accuracy: 0.7888\n",
      "Epoch 28/100\n",
      "313/313 [==============================] - 13s 41ms/step - loss: 0.4258 - accuracy: 0.8122 - val_loss: 0.4626 - val_accuracy: 0.7854\n",
      "Epoch 29/100\n",
      "313/313 [==============================] - 13s 41ms/step - loss: 0.4238 - accuracy: 0.8137 - val_loss: 0.4595 - val_accuracy: 0.7882\n",
      "Epoch 30/100\n",
      "313/313 [==============================] - 14s 44ms/step - loss: 0.4213 - accuracy: 0.8140 - val_loss: 0.4581 - val_accuracy: 0.7890\n",
      "Epoch 31/100\n",
      "313/313 [==============================] - 15s 47ms/step - loss: 0.4199 - accuracy: 0.8154 - val_loss: 0.4569 - val_accuracy: 0.7920\n",
      "Epoch 32/100\n",
      "313/313 [==============================] - 12s 39ms/step - loss: 0.4180 - accuracy: 0.8160 - val_loss: 0.4579 - val_accuracy: 0.7886\n",
      "Epoch 33/100\n",
      "313/313 [==============================] - 14s 44ms/step - loss: 0.4162 - accuracy: 0.8170 - val_loss: 0.4653 - val_accuracy: 0.7820\n",
      "Epoch 34/100\n",
      "313/313 [==============================] - 13s 41ms/step - loss: 0.4153 - accuracy: 0.8175 - val_loss: 0.4559 - val_accuracy: 0.7906\n",
      "Epoch 35/100\n",
      "313/313 [==============================] - 12s 38ms/step - loss: 0.4142 - accuracy: 0.8177 - val_loss: 0.4611 - val_accuracy: 0.7914\n",
      "Epoch 36/100\n",
      "313/313 [==============================] - 12s 39ms/step - loss: 0.4125 - accuracy: 0.8198 - val_loss: 0.4580 - val_accuracy: 0.7902\n",
      "Epoch 37/100\n",
      "313/313 [==============================] - 12s 38ms/step - loss: 0.4116 - accuracy: 0.8206 - val_loss: 0.4574 - val_accuracy: 0.7880\n"
     ]
    }
   ],
   "source": [
    "rmsprop = keras.optimizers.RMSprop(learning_rate=1e-4)\n",
    "model.compile(optimizer=rmsprop, loss='binary_crossentropy', metrics='accuracy')\n",
    "checkpoint_cb = keras.callbacks.ModelCheckpoint('best-simplernn-model.h5', save_best_only=True)\n",
    "early_stopping_cb = keras.callbacks.EarlyStopping(patience=3, restore_best_weights=True)\n",
    "history = model.fit(train_oh, train_target, epochs=100, batch_size=64,\n",
    "                    validation_data=(val_oh, val_target),\n",
    "                    callbacks=[checkpoint_cb, early_stopping_cb])"
   ]
  },
  {
   "cell_type": "code",
   "execution_count": 28,
   "metadata": {},
   "outputs": [
    {
     "data": {
      "image/png": "[encoded data removed]",
      "text/plain": [
       "<Figure size 432x288 with 1 Axes>"
      ]
     },
     "metadata": {
      "needs_background": "light"
     },
     "output_type": "display_data"
    }
   ],
   "source": [
    "plt.plot(history.history['loss'])\n",
    "plt.plot(history.history['val_loss'])\n",
    "plt.xlabel('epoch')\n",
    "plt.ylabel('loss')\n",
    "plt.legend(['train', 'val'])\n",
    "plt.show()"
   ]
  },
  {
   "cell_type": "code",
   "execution_count": 29,
   "metadata": {},
   "outputs": [
    {
     "name": "stdout",
     "output_type": "stream",
     "text": [
      "8000000 4000000000\n"
     ]
    }
   ],
   "source": [
    "print(train_seq.nbytes, train_oh.nbytes)"
   ]
  },
  {
   "cell_type": "code",
   "execution_count": 30,
   "metadata": {},
   "outputs": [],
   "source": [
    "model2 = keras.Sequential()\n",
    "model2.add(keras.layers.Embedding(500, 16, input_length=100))\n",
    "model2.add(keras.layers.SimpleRNN(8))\n",
    "model2.add(keras.layers.Dense(1, activation='sigmoid'))"
   ]
  },
  {
   "cell_type": "code",
   "execution_count": 31,
   "metadata": {},
   "outputs": [
    {
     "name": "stdout",
     "output_type": "stream",
     "text": [
      "Model: \"sequential_1\"\n",
      "_________________________________________________________________\n",
      " Layer (type)                Output Shape              Param #   \n",
      "=================================================================\n",
      " embedding (Embedding)       (None, 100, 16)           8000      \n",
      "                                                                 \n",
      " simple_rnn_1 (SimpleRNN)    (None, 8)                 200       \n",
      "                                                                 \n",
      " dense_1 (Dense)             (None, 1)                 9         \n",
      "                                                                 \n",
      "=================================================================\n",
      "Total params: 8,209\n",
      "Trainable params: 8,209\n",
      "Non-trainable params: 0\n",
      "_________________________________________________________________\n"
     ]
    }
   ],
   "source": [
    "model2.summary()"
   ]
  },
  {
   "cell_type": "code",
   "execution_count": 33,
   "metadata": {},
   "outputs": [
    {
     "data": {
      "image/png": "[encoded data removed]",
      "text/plain": [
       "<IPython.core.display.Image object>"
      ]
     },
     "execution_count": 33,
     "metadata": {},
     "output_type": "execute_result"
    }
   ],
   "source": [
    "keras.utils.plot_model(model2, show_shapes=True)"
   ]
  },
  {
   "cell_type": "code",
   "execution_count": 35,
   "metadata": {},
   "outputs": [
    {
     "name": "stdout",
     "output_type": "stream",
     "text": [
      "Epoch 1/100\n",
      "313/313 [==============================] - 10s 28ms/step - loss: 0.6940 - accuracy: 0.5041 - val_loss: 0.6911 - val_accuracy: 0.5182\n",
      "Epoch 2/100\n",
      "313/313 [==============================] - 6s 19ms/step - loss: 0.6763 - accuracy: 0.6044 - val_loss: 0.6639 - val_accuracy: 0.6418\n",
      "Epoch 3/100\n",
      "313/313 [==============================] - 6s 19ms/step - loss: 0.6486 - accuracy: 0.6742 - val_loss: 0.6379 - val_accuracy: 0.6918\n",
      "Epoch 4/100\n",
      "313/313 [==============================] - 6s 19ms/step - loss: 0.6195 - accuracy: 0.7175 - val_loss: 0.6122 - val_accuracy: 0.7176\n",
      "Epoch 5/100\n",
      "313/313 [==============================] - 6s 21ms/step - loss: 0.5917 - accuracy: 0.7457 - val_loss: 0.5866 - val_accuracy: 0.7452\n",
      "Epoch 6/100\n",
      "313/313 [==============================] - 6s 20ms/step - loss: 0.5693 - accuracy: 0.7592 - val_loss: 0.5653 - val_accuracy: 0.7594\n",
      "Epoch 7/100\n",
      "313/313 [==============================] - 8s 25ms/step - loss: 0.5485 - accuracy: 0.7717 - val_loss: 0.5473 - val_accuracy: 0.7646\n",
      "Epoch 8/100\n",
      "313/313 [==============================] - 6s 19ms/step - loss: 0.5297 - accuracy: 0.7789 - val_loss: 0.5312 - val_accuracy: 0.7708\n",
      "Epoch 9/100\n",
      "313/313 [==============================] - 6s 19ms/step - loss: 0.5133 - accuracy: 0.7851 - val_loss: 0.5165 - val_accuracy: 0.7730\n",
      "Epoch 10/100\n",
      "313/313 [==============================] - 10s 31ms/step - loss: 0.4992 - accuracy: 0.7897 - val_loss: 0.5068 - val_accuracy: 0.7738\n",
      "Epoch 11/100\n",
      "313/313 [==============================] - 9s 29ms/step - loss: 0.4863 - accuracy: 0.7947 - val_loss: 0.4975 - val_accuracy: 0.7752\n",
      "Epoch 12/100\n",
      "313/313 [==============================] - 9s 27ms/step - loss: 0.4752 - accuracy: 0.7984 - val_loss: 0.4890 - val_accuracy: 0.7800\n",
      "Epoch 13/100\n",
      "313/313 [==============================] - 12s 39ms/step - loss: 0.4661 - accuracy: 0.8017 - val_loss: 0.4872 - val_accuracy: 0.7790\n",
      "Epoch 14/100\n",
      "313/313 [==============================] - 8s 26ms/step - loss: 0.4582 - accuracy: 0.8036 - val_loss: 0.4800 - val_accuracy: 0.7784\n",
      "Epoch 15/100\n",
      "313/313 [==============================] - 9s 28ms/step - loss: 0.4516 - accuracy: 0.8062 - val_loss: 0.4744 - val_accuracy: 0.7828\n",
      "Epoch 16/100\n",
      "313/313 [==============================] - 6s 18ms/step - loss: 0.4455 - accuracy: 0.8073 - val_loss: 0.4732 - val_accuracy: 0.7812\n",
      "Epoch 17/100\n",
      "313/313 [==============================] - 6s 19ms/step - loss: 0.4401 - accuracy: 0.8109 - val_loss: 0.4698 - val_accuracy: 0.7858\n",
      "Epoch 18/100\n",
      "313/313 [==============================] - 6s 19ms/step - loss: 0.4355 - accuracy: 0.8127 - val_loss: 0.4695 - val_accuracy: 0.7810\n",
      "Epoch 19/100\n",
      "313/313 [==============================] - 6s 19ms/step - loss: 0.4314 - accuracy: 0.8148 - val_loss: 0.4672 - val_accuracy: 0.7846\n",
      "Epoch 20/100\n",
      "313/313 [==============================] - 6s 19ms/step - loss: 0.4268 - accuracy: 0.8166 - val_loss: 0.4648 - val_accuracy: 0.7862\n",
      "Epoch 21/100\n",
      "313/313 [==============================] - 6s 19ms/step - loss: 0.4250 - accuracy: 0.8160 - val_loss: 0.4642 - val_accuracy: 0.7854\n",
      "Epoch 22/100\n",
      "313/313 [==============================] - 6s 19ms/step - loss: 0.4217 - accuracy: 0.8195 - val_loss: 0.4637 - val_accuracy: 0.7864\n",
      "Epoch 23/100\n",
      "313/313 [==============================] - 6s 18ms/step - loss: 0.4195 - accuracy: 0.8203 - val_loss: 0.4629 - val_accuracy: 0.7850\n",
      "Epoch 24/100\n",
      "313/313 [==============================] - 8s 24ms/step - loss: 0.4169 - accuracy: 0.8214 - val_loss: 0.4642 - val_accuracy: 0.7870\n",
      "Epoch 25/100\n",
      "313/313 [==============================] - 6s 18ms/step - loss: 0.4143 - accuracy: 0.8245 - val_loss: 0.4625 - val_accuracy: 0.7864\n",
      "Epoch 26/100\n",
      "313/313 [==============================] - 7s 24ms/step - loss: 0.4119 - accuracy: 0.8242 - val_loss: 0.4691 - val_accuracy: 0.7848\n",
      "Epoch 27/100\n",
      "313/313 [==============================] - 6s 18ms/step - loss: 0.4118 - accuracy: 0.8253 - val_loss: 0.4624 - val_accuracy: 0.7850\n",
      "Epoch 28/100\n",
      "313/313 [==============================] - 7s 21ms/step - loss: 0.4086 - accuracy: 0.8268 - val_loss: 0.4629 - val_accuracy: 0.7870\n",
      "Epoch 29/100\n",
      "313/313 [==============================] - 6s 18ms/step - loss: 0.4066 - accuracy: 0.8284 - val_loss: 0.4628 - val_accuracy: 0.7846\n",
      "Epoch 30/100\n",
      "313/313 [==============================] - 6s 18ms/step - loss: 0.4051 - accuracy: 0.8291 - val_loss: 0.4649 - val_accuracy: 0.7858\n"
     ]
    }
   ],
   "source": [
    "rmsprop = keras.optimizers.RMSprop(learning_rate=1e-4)\n",
    "model2.compile(optimizer=rmsprop, loss='binary_crossentropy', metrics=['accuracy'])\n",
    "checkpoint_cb = keras.callbacks.ModelCheckpoint('best-embedding-model.h5', save_best_only=True)\n",
    "early_stopping_cb = keras.callbacks.EarlyStopping(patience=3, restore_best_weights=True)\n",
    "history = model2.fit(train_seq, train_target, epochs=100, batch_size=64,\n",
    "                     validation_data=(val_seq, val_target),\n",
    "                     callbacks=[checkpoint_cb, early_stopping_cb])"
   ]
  },
  {
   "cell_type": "code",
   "execution_count": 36,
   "metadata": {},
   "outputs": [
    {
     "data": {
      "image/png": "[encoded data removed]",
      "text/plain": [
       "<Figure size 432x288 with 1 Axes>"
      ]
     },
     "metadata": {
      "needs_background": "light"
     },
     "output_type": "display_data"
    }
   ],
   "source": [
    "plt.plot(history.history['loss'])\n",
    "plt.plot(history.history['val_loss'])\n",
    "plt.xlabel('epoch')\n",
    "plt.ylabel('loss')\n",
    "plt.legend(['train', 'val'])\n",
    "plt.show()"
   ]
  }
 ],
 "metadata": {
  "kernelspec": {
   "display_name": "Python 3.10.4 64-bit",
   "language": "python",
   "name": "python3"
  },
  "language_info": {
   "codemirror_mode": {
    "name": "ipython",
    "version": 3
   },
   "file_extension": ".py",
   "mimetype": "text/x-python",
   "name": "python",
   "nbconvert_exporter": "python",
   "pygments_lexer": "ipython3",
   "version": "3.10.4"
  },
  "orig_nbformat": 4,
  "vscode": {
   "interpreter": {
    "hash": "fb4569285eef3a3450cb62085a5b1e0da4bce0af555edc33dcf29baf3acc1368"
   }
  }
 },
 "nbformat": 4,
 "nbformat_minor": 2
}
